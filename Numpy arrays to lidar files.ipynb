{
 "cells": [
  {
   "cell_type": "code",
   "execution_count": 2,
   "id": "fbf6a5fd",
   "metadata": {},
   "outputs": [],
   "source": [
    "import numpy as np\n",
    "import pdal"
   ]
  },
  {
   "cell_type": "code",
   "execution_count": 19,
   "id": "bde21010",
   "metadata": {},
   "outputs": [
    {
     "data": {
      "text/plain": [
       "1000"
      ]
     },
     "execution_count": 19,
     "metadata": {},
     "output_type": "execute_result"
    }
   ],
   "source": [
    "# Create some random points\n",
    "k = 1000\n",
    "\n",
    "x,y = 100 * np.random.rand(2,k) + 100000\n",
    "z = 100 * np.random.rand(k)\n",
    "\n",
    "# With random intensities\n",
    "intensity = np.random.randint(0,255,k)\n",
    "\n",
    "# Create dtypes for these and labels for a heterogenous numpy array\n",
    "dtypes=np.dtype([('X', 'f8'), ('Y', 'f8'), ('Z', 'f8'), ('intensity', '<u2')])\n",
    "\n",
    "pipeline = pdal.Writer.las(\n",
    "            filename='test.laz',\n",
    "            offset_x='auto',\n",
    "            offset_y='auto',\n",
    "            offset_z='auto',\n",
    "            scale_x=0.01,\n",
    "            scale_y=0.01,\n",
    "            scale_z=0.01,\n",
    "        ).pipeline(np.array(list(zip(x,y,z,intensity)),dtype=dtypes))\n",
    "pipeline.execute()"
   ]
  }
 ],
 "metadata": {
  "kernelspec": {
   "display_name": "Python 3 (ipykernel)",
   "language": "python",
   "name": "python3"
  },
  "language_info": {
   "codemirror_mode": {
    "name": "ipython",
    "version": 3
   },
   "file_extension": ".py",
   "mimetype": "text/x-python",
   "name": "python",
   "nbconvert_exporter": "python",
   "pygments_lexer": "ipython3",
   "version": "3.9.13"
  }
 },
 "nbformat": 4,
 "nbformat_minor": 5
}
